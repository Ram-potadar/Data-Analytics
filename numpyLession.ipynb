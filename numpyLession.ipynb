{
  "nbformat": 4,
  "nbformat_minor": 0,
  "metadata": {
    "colab": {
      "provenance": [],
      "authorship_tag": "ABX9TyPRZvC878O3JIECHJVCUNwB",
      "include_colab_link": true
    },
    "kernelspec": {
      "name": "python3",
      "display_name": "Python 3"
    },
    "language_info": {
      "name": "python"
    }
  },
  "cells": [
    {
      "cell_type": "markdown",
      "metadata": {
        "id": "view-in-github",
        "colab_type": "text"
      },
      "source": [
        "<a href=\"https://colab.research.google.com/github/Ram-potadar/Data-Analytics/blob/main/numpyLession.ipynb\" target=\"_parent\"><img src=\"https://colab.research.google.com/assets/colab-badge.svg\" alt=\"Open In Colab\"/></a>"
      ]
    },
    {
      "cell_type": "code",
      "execution_count": null,
      "metadata": {
        "id": "liIyVc9cqrj1"
      },
      "outputs": [],
      "source": [
        "w1, w2, w3 = 0.3, 0.2, 0.5"
      ]
    },
    {
      "cell_type": "code",
      "source": [
        "kanto_temp = 73\n",
        "kanto_rainfall = 67\n",
        "kanto_humidity = 43"
      ],
      "metadata": {
        "id": "uh7S4FwMrqcN"
      },
      "execution_count": null,
      "outputs": []
    },
    {
      "cell_type": "code",
      "source": [
        "kanto_yield_apples = kanto_temp * w1 + kanto_rainfall * w2 + kanto_humidity * w3\n",
        "kanto_yield_apples"
      ],
      "metadata": {
        "colab": {
          "base_uri": "https://localhost:8080/"
        },
        "id": "DdD8aqJ5r73t",
        "outputId": "d805800b-aa68-420e-d52d-df06b6be9596"
      },
      "execution_count": null,
      "outputs": [
        {
          "output_type": "execute_result",
          "data": {
            "text/plain": [
              "56.8"
            ]
          },
          "metadata": {},
          "execution_count": 3
        }
      ]
    },
    {
      "cell_type": "markdown",
      "source": [
        "to add more we end up with a many variables so to avoide that what we can do here is by creating vector for the each input like below"
      ],
      "metadata": {
        "id": "ez038g2Mr-OE"
      }
    },
    {
      "cell_type": "code",
      "source": [
        "kanto = [73, 67, 43]\n",
        "johto = [91, 88, 64]\n",
        "hoenn = [87, 134, 58]\n",
        "sinnoh = [102, 43, 37]\n",
        "unova = [69, 96, 70]"
      ],
      "metadata": {
        "id": "Us10hIBUsWew"
      },
      "execution_count": null,
      "outputs": []
    },
    {
      "cell_type": "code",
      "source": [
        "weights = [w1, w2, w3]"
      ],
      "metadata": {
        "id": "FhMyuG5_r8jV"
      },
      "execution_count": null,
      "outputs": []
    },
    {
      "cell_type": "code",
      "source": [
        "for x, y in zip(kanto, weights):\n",
        "  print(x)\n",
        "  print(y)\n"
      ],
      "metadata": {
        "colab": {
          "base_uri": "https://localhost:8080/"
        },
        "id": "raCJupmns7dy",
        "outputId": "35d46614-66f2-432b-a48f-7ce3c17d1f67"
      },
      "execution_count": null,
      "outputs": [
        {
          "output_type": "stream",
          "name": "stdout",
          "text": [
            "73\n",
            "0.3\n",
            "67\n",
            "0.2\n",
            "43\n",
            "0.5\n"
          ]
        }
      ]
    },
    {
      "cell_type": "markdown",
      "source": [
        "We can now write a function `crop_yield` to calcuate the yield of apples (or any other crop) given the climate data and the respective weights."
      ],
      "metadata": {
        "id": "zHln-U72sg7P"
      }
    },
    {
      "cell_type": "code",
      "source": [
        "def crop_yield(region, weights):\n",
        "    result = 0\n",
        "    for x, w in zip(region, weights):\n",
        "        result += x * w\n",
        "    return result"
      ],
      "metadata": {
        "id": "qPs-wqPksgt3"
      },
      "execution_count": null,
      "outputs": []
    },
    {
      "cell_type": "code",
      "source": [
        "crop_yield(kanto, weights)"
      ],
      "metadata": {
        "colab": {
          "base_uri": "https://localhost:8080/"
        },
        "id": "saAvIQxUsaQr",
        "outputId": "6421bfb2-49b7-4522-e60a-da27ea8a8748"
      },
      "execution_count": null,
      "outputs": [
        {
          "output_type": "execute_result",
          "data": {
            "text/plain": [
              "56.8"
            ]
          },
          "metadata": {},
          "execution_count": 8
        }
      ]
    },
    {
      "cell_type": "markdown",
      "source": [],
      "metadata": {
        "id": "lG0dKdMetk6Y"
      }
    },
    {
      "cell_type": "code",
      "source": [
        "crop_yield(johto, weights)\n"
      ],
      "metadata": {
        "colab": {
          "base_uri": "https://localhost:8080/"
        },
        "id": "_P_k7_TLtUrM",
        "outputId": "353233c4-ea55-427d-df22-1a02e832fe30"
      },
      "execution_count": null,
      "outputs": [
        {
          "output_type": "execute_result",
          "data": {
            "text/plain": [
              "76.9"
            ]
          },
          "metadata": {},
          "execution_count": 9
        }
      ]
    },
    {
      "cell_type": "code",
      "source": [
        "crop_yield(hoenn, weights)\n"
      ],
      "metadata": {
        "colab": {
          "base_uri": "https://localhost:8080/"
        },
        "id": "xdqDlhqvtWZT",
        "outputId": "91aeae31-5fbd-404c-d5c7-76ca5bc381e2"
      },
      "execution_count": null,
      "outputs": [
        {
          "output_type": "execute_result",
          "data": {
            "text/plain": [
              "81.9"
            ]
          },
          "metadata": {},
          "execution_count": 10
        }
      ]
    },
    {
      "cell_type": "code",
      "source": [
        "crop_yield(sinnoh, weights)\n"
      ],
      "metadata": {
        "colab": {
          "base_uri": "https://localhost:8080/"
        },
        "id": "IYTnVlw0tgxA",
        "outputId": "975d95a0-ae3e-4df4-eae6-e7dc75ad87f4"
      },
      "execution_count": null,
      "outputs": [
        {
          "output_type": "execute_result",
          "data": {
            "text/plain": [
              "57.699999999999996"
            ]
          },
          "metadata": {},
          "execution_count": 11
        }
      ]
    },
    {
      "cell_type": "markdown",
      "source": [
        "the above calculation is also called as the dot product"
      ],
      "metadata": {
        "id": "TTYY98witvXK"
      }
    },
    {
      "cell_type": "markdown",
      "source": [
        "The Numpy library provides a built-in function to compute the dot product of two vectors"
      ],
      "metadata": {
        "id": "iPhz4-yBxv0s"
      }
    },
    {
      "cell_type": "code",
      "source": [
        "import numpy as np\n"
      ],
      "metadata": {
        "id": "eBwlM3-gtnPB"
      },
      "execution_count": null,
      "outputs": []
    },
    {
      "cell_type": "markdown",
      "source": [
        "Numpy arrays can be created by using numpy.array function\n"
      ],
      "metadata": {
        "id": "rrUV-S9AyVvL"
      }
    },
    {
      "cell_type": "code",
      "source": [
        "kanto = np.array([73, 67, 43])"
      ],
      "metadata": {
        "id": "nDN_Aw0gx6Yu"
      },
      "execution_count": null,
      "outputs": []
    },
    {
      "cell_type": "code",
      "source": [
        "kanto"
      ],
      "metadata": {
        "colab": {
          "base_uri": "https://localhost:8080/"
        },
        "id": "V8D4WzvfyHEH",
        "outputId": "e5101528-0abe-4a3a-afd2-5eb665223637"
      },
      "execution_count": null,
      "outputs": [
        {
          "output_type": "execute_result",
          "data": {
            "text/plain": [
              "array([73, 67, 43])"
            ]
          },
          "metadata": {},
          "execution_count": 14
        }
      ]
    },
    {
      "cell_type": "code",
      "source": [
        "weights = np.array([w1, w2, w3])"
      ],
      "metadata": {
        "id": "JwCkCiXvyGka"
      },
      "execution_count": null,
      "outputs": []
    },
    {
      "cell_type": "code",
      "source": [
        "weights"
      ],
      "metadata": {
        "colab": {
          "base_uri": "https://localhost:8080/"
        },
        "id": "akfgxjD_yOum",
        "outputId": "602c6ecd-f283-4430-b53d-af61b1383d0b"
      },
      "execution_count": null,
      "outputs": [
        {
          "output_type": "execute_result",
          "data": {
            "text/plain": [
              "array([0.3, 0.2, 0.5])"
            ]
          },
          "metadata": {},
          "execution_count": 16
        }
      ]
    },
    {
      "cell_type": "code",
      "source": [
        "type(weights)"
      ],
      "metadata": {
        "colab": {
          "base_uri": "https://localhost:8080/"
        },
        "id": "WtUA4oYNyQ6R",
        "outputId": "9996e3f7-9cd6-43e9-89da-477c5f6bd983"
      },
      "execution_count": null,
      "outputs": [
        {
          "output_type": "execute_result",
          "data": {
            "text/plain": [
              "numpy.ndarray"
            ]
          },
          "metadata": {},
          "execution_count": 17
        }
      ]
    },
    {
      "cell_type": "code",
      "source": [
        "\n",
        "weights[0]"
      ],
      "metadata": {
        "colab": {
          "base_uri": "https://localhost:8080/"
        },
        "id": "qieUYKpty9zS",
        "outputId": "16adc81f-7fde-4af4-9f46-3b9654f816bf"
      },
      "execution_count": null,
      "outputs": [
        {
          "output_type": "execute_result",
          "data": {
            "text/plain": [
              "0.3"
            ]
          },
          "metadata": {},
          "execution_count": 18
        }
      ]
    },
    {
      "cell_type": "markdown",
      "source": [
        "### Operations on Numpy Arrays"
      ],
      "metadata": {
        "id": "8hc3QmukzNb7"
      }
    },
    {
      "cell_type": "markdown",
      "source": [
        "Now we can compute the dot product by using np.dot function"
      ],
      "metadata": {
        "id": "A9kVCJ05za04"
      }
    },
    {
      "cell_type": "code",
      "source": [
        "np.dot(kanto, weights )"
      ],
      "metadata": {
        "colab": {
          "base_uri": "https://localhost:8080/"
        },
        "id": "hFFrVnWszFuR",
        "outputId": "9181b395-6afe-4c3b-e7db-76cc4231ad3a"
      },
      "execution_count": null,
      "outputs": [
        {
          "output_type": "execute_result",
          "data": {
            "text/plain": [
              "56.8"
            ]
          },
          "metadata": {},
          "execution_count": 19
        }
      ]
    },
    {
      "cell_type": "markdown",
      "source": [
        "We can also perform the element wise operations as below"
      ],
      "metadata": {
        "id": "UOvgCSoIzyQQ"
      }
    },
    {
      "cell_type": "code",
      "source": [
        "(kanto * weights ).sum()"
      ],
      "metadata": {
        "colab": {
          "base_uri": "https://localhost:8080/"
        },
        "id": "2H9-NadKzlXY",
        "outputId": "5a1b96d7-8208-4ed4-e54e-0c48bd51b00c"
      },
      "execution_count": null,
      "outputs": [
        {
          "output_type": "execute_result",
          "data": {
            "text/plain": [
              "56.8"
            ]
          },
          "metadata": {},
          "execution_count": 20
        }
      ]
    },
    {
      "cell_type": "markdown",
      "source": [
        "the * operator is ussed to element wise multiplication of two numpy array it they have the same size. And + operator is used to add 2 numpy arrays\n"
      ],
      "metadata": {
        "id": "v5qW2oFTrw46"
      }
    },
    {
      "cell_type": "code",
      "source": [
        "arr1 = np.array([1, 2, 3])\n",
        "arr2 = np.array([4, 5, 6])"
      ],
      "metadata": {
        "id": "NhfYsdNJrwn1"
      },
      "execution_count": null,
      "outputs": []
    },
    {
      "cell_type": "code",
      "source": [
        "\n",
        "arr3 = arr1 * arr2"
      ],
      "metadata": {
        "id": "IGOzRzhqsR0N"
      },
      "execution_count": null,
      "outputs": []
    },
    {
      "cell_type": "code",
      "source": [
        "(arr1 * arr2 ).sum()"
      ],
      "metadata": {
        "colab": {
          "base_uri": "https://localhost:8080/"
        },
        "id": "jnfTXZmfsmdv",
        "outputId": "c8fd9416-f7be-46ae-f09b-98891b178127"
      },
      "execution_count": null,
      "outputs": [
        {
          "output_type": "execute_result",
          "data": {
            "text/plain": [
              "32"
            ]
          },
          "metadata": {},
          "execution_count": 23
        }
      ]
    },
    {
      "cell_type": "code",
      "source": [
        "arr1 + arr2"
      ],
      "metadata": {
        "colab": {
          "base_uri": "https://localhost:8080/"
        },
        "id": "USVyP5Ljs_Gs",
        "outputId": "dacdc175-e2bc-4201-bdfe-02f6cb1734cc"
      },
      "execution_count": null,
      "outputs": [
        {
          "output_type": "execute_result",
          "data": {
            "text/plain": [
              "array([5, 7, 9])"
            ]
          },
          "metadata": {},
          "execution_count": 24
        }
      ]
    },
    {
      "cell_type": "markdown",
      "source": [
        "## Benefits of using Numpy arrays\n",
        "\n",
        "Numpy arrays offer the following benefits over Python lists for operating on numerical data:\n",
        "\n",
        "- **Ease of use**: You can write small, concise, and intuitive mathematical expressions like `(kanto * weights).sum()` rather than using loops & custom functions like `crop_yield`.\n",
        "- **Performance**: Numpy operations and functions are implemented internally in C++, which makes them much faster than using Python statements & loops that are interpreted at runtime\n",
        "\n",
        "\n"
      ],
      "metadata": {
        "id": "FECqzdiG0Lrj"
      }
    },
    {
      "cell_type": "code",
      "source": [
        "arr1 =  list(range(1000000))\n",
        "arr2 =  list(range(1000000, 2000000))"
      ],
      "metadata": {
        "id": "Y6pJBGYRtxaf"
      },
      "execution_count": null,
      "outputs": []
    },
    {
      "cell_type": "code",
      "source": [
        "arr1_np = np.array(arr1)\n",
        "arr2_np = np.array(arr2)"
      ],
      "metadata": {
        "id": "zyIc_Xvbz9Lb"
      },
      "execution_count": null,
      "outputs": []
    },
    {
      "cell_type": "code",
      "source": [
        "%%time\n",
        "result = 0\n",
        "for x1 , x2 in zip(arr1, arr2):\n",
        "  result += x1 * x2\n",
        "result"
      ],
      "metadata": {
        "colab": {
          "base_uri": "https://localhost:8080/"
        },
        "id": "Jl4kWwmMuIGD",
        "outputId": "e18182e3-b40d-4ee6-8589-80faf1e78a53"
      },
      "execution_count": null,
      "outputs": [
        {
          "output_type": "stream",
          "name": "stdout",
          "text": [
            "CPU times: user 375 ms, sys: 8.67 ms, total: 383 ms\n",
            "Wall time: 732 ms\n"
          ]
        },
        {
          "output_type": "execute_result",
          "data": {
            "text/plain": [
              "833332333333500000"
            ]
          },
          "metadata": {},
          "execution_count": 27
        }
      ]
    },
    {
      "cell_type": "code",
      "source": [
        "np.dot(arr1_np, arr2_np)"
      ],
      "metadata": {
        "colab": {
          "base_uri": "https://localhost:8080/"
        },
        "id": "inFrxduKuRy6",
        "outputId": "71017983-d7c3-467f-9390-ab97f72feafa"
      },
      "execution_count": null,
      "outputs": [
        {
          "output_type": "execute_result",
          "data": {
            "text/plain": [
              "833332333333500000"
            ]
          },
          "metadata": {},
          "execution_count": 28
        }
      ]
    },
    {
      "cell_type": "code",
      "source": [
        "%%time\n",
        "np.dot(arr1_np, arr2_np)"
      ],
      "metadata": {
        "colab": {
          "base_uri": "https://localhost:8080/"
        },
        "id": "kr1qL0ApuZ3Q",
        "outputId": "215c4c94-1049-49dd-bb09-b537cf5a3138"
      },
      "execution_count": null,
      "outputs": [
        {
          "output_type": "stream",
          "name": "stdout",
          "text": [
            "CPU times: user 2 ms, sys: 4 µs, total: 2.01 ms\n",
            "Wall time: 7.03 ms\n"
          ]
        },
        {
          "output_type": "execute_result",
          "data": {
            "text/plain": [
              "833332333333500000"
            ]
          },
          "metadata": {},
          "execution_count": 29
        }
      ]
    },
    {
      "cell_type": "markdown",
      "source": [
        "# Multi-Dimentional Numpy arrays"
      ],
      "metadata": {
        "id": "xb-F5Kejum5o"
      }
    },
    {
      "cell_type": "code",
      "source": [
        "climate_data = np.array([[73, 67, 43],\n",
        "                         [91, 88, 64],\n",
        "                         [87, 134, 58],\n",
        "                         [102, 43, 37],\n",
        "                         [69, 96, 70]])"
      ],
      "metadata": {
        "id": "26QW33VOufHP"
      },
      "execution_count": null,
      "outputs": []
    },
    {
      "cell_type": "code",
      "source": [
        "climate_data"
      ],
      "metadata": {
        "colab": {
          "base_uri": "https://localhost:8080/"
        },
        "id": "-OKFmKG3vDzT",
        "outputId": "60d29880-611b-4adc-e4ed-7401b40284b0"
      },
      "execution_count": null,
      "outputs": [
        {
          "output_type": "execute_result",
          "data": {
            "text/plain": [
              "array([[ 73,  67,  43],\n",
              "       [ 91,  88,  64],\n",
              "       [ 87, 134,  58],\n",
              "       [102,  43,  37],\n",
              "       [ 69,  96,  70]])"
            ]
          },
          "metadata": {},
          "execution_count": 31
        }
      ]
    },
    {
      "cell_type": "markdown",
      "source": [
        "If you've taken a linear algebra class in high school, you may recognize the above 2-d array as a matrix with five rows and three columns. Each row represents one region, and the columns represent temperature, rainfall, and humidity, respectively.\n",
        "\n",
        "Numpy arrays can have any number of dimensions and different lengths along each dimension. We can inspect the length along each dimension using the `.shape` property of an array.\n",
        "\n",
        "<!-- <img src=\"https://fgnt.github.io/python_crashkurs_doc/_images/numpy_array_t.png\" width=\"420\"> -->\n"
      ],
      "metadata": {
        "id": "RvkXjSq4vcSn"
      }
    },
    {
      "cell_type": "markdown",
      "source": [
        "We can insepect the length along each dimension using the .shape property of an array"
      ],
      "metadata": {
        "id": "pKneiI_BvwHL"
      }
    },
    {
      "cell_type": "code",
      "source": [
        "#2D array\n",
        "climate_data.shape"
      ],
      "metadata": {
        "colab": {
          "base_uri": "https://localhost:8080/"
        },
        "id": "_W9lJTORvFU-",
        "outputId": "87c69340-2f31-4c28-82b5-4551ec07c84c"
      },
      "execution_count": null,
      "outputs": [
        {
          "output_type": "execute_result",
          "data": {
            "text/plain": [
              "(5, 3)"
            ]
          },
          "metadata": {},
          "execution_count": 32
        }
      ]
    },
    {
      "cell_type": "code",
      "source": [
        "weights"
      ],
      "metadata": {
        "colab": {
          "base_uri": "https://localhost:8080/"
        },
        "id": "c670ZqVRwM7W",
        "outputId": "7ad28814-ed33-4078-8c32-24a81b4d919d"
      },
      "execution_count": null,
      "outputs": [
        {
          "output_type": "execute_result",
          "data": {
            "text/plain": [
              "array([0.3, 0.2, 0.5])"
            ]
          },
          "metadata": {},
          "execution_count": 33
        }
      ]
    },
    {
      "cell_type": "code",
      "source": [
        "weights.shape"
      ],
      "metadata": {
        "colab": {
          "base_uri": "https://localhost:8080/"
        },
        "id": "oCQe6OKswQwh",
        "outputId": "94071a03-13ce-4871-caa2-c832c8336d88"
      },
      "execution_count": null,
      "outputs": [
        {
          "output_type": "execute_result",
          "data": {
            "text/plain": [
              "(3,)"
            ]
          },
          "metadata": {},
          "execution_count": 34
        }
      ]
    },
    {
      "cell_type": "code",
      "source": [
        "# 3D array\n",
        "arr3 = np.array([\n",
        "    [[11, 12, 13],\n",
        "     [13, 14, 15]],\n",
        "    [[15, 16, 17],\n",
        "     [17, 18, 19.5]]])"
      ],
      "metadata": {
        "id": "O9dShMNNwULj"
      },
      "execution_count": null,
      "outputs": []
    },
    {
      "cell_type": "code",
      "source": [
        "arr3"
      ],
      "metadata": {
        "colab": {
          "base_uri": "https://localhost:8080/"
        },
        "id": "V-YjnzwMwzn6",
        "outputId": "6ec1307e-fb8b-481d-aaf8-0f8df8cf12f4"
      },
      "execution_count": null,
      "outputs": [
        {
          "output_type": "execute_result",
          "data": {
            "text/plain": [
              "array([[[11. , 12. , 13. ],\n",
              "        [13. , 14. , 15. ]],\n",
              "\n",
              "       [[15. , 16. , 17. ],\n",
              "        [17. , 18. , 19.5]]])"
            ]
          },
          "metadata": {},
          "execution_count": 36
        }
      ]
    },
    {
      "cell_type": "code",
      "source": [
        "arr3.shape"
      ],
      "metadata": {
        "colab": {
          "base_uri": "https://localhost:8080/"
        },
        "id": "Zwl5KWCDw04x",
        "outputId": "97a167eb-6e1b-449d-a0c2-9e59a69b67d7"
      },
      "execution_count": null,
      "outputs": [
        {
          "output_type": "execute_result",
          "data": {
            "text/plain": [
              "(2, 2, 3)"
            ]
          },
          "metadata": {},
          "execution_count": 37
        }
      ]
    },
    {
      "cell_type": "markdown",
      "source": [
        "All the elements in a numpy array have the same data type. You can check the data type of an array using the `.dtype` property."
      ],
      "metadata": {
        "id": "w8YpxbC3xSaX"
      }
    },
    {
      "cell_type": "code",
      "source": [
        "weights.dtype"
      ],
      "metadata": {
        "colab": {
          "base_uri": "https://localhost:8080/"
        },
        "id": "jf6bd61QxVcF",
        "outputId": "1a2821bc-e149-48b8-9569-3acd91c4a59c"
      },
      "execution_count": null,
      "outputs": [
        {
          "output_type": "execute_result",
          "data": {
            "text/plain": [
              "dtype('float64')"
            ]
          },
          "metadata": {},
          "execution_count": 38
        }
      ]
    },
    {
      "cell_type": "code",
      "source": [
        "arr3.dtype"
      ],
      "metadata": {
        "colab": {
          "base_uri": "https://localhost:8080/"
        },
        "id": "ntyccpx-w5EU",
        "outputId": "c74d4a34-eb80-48a7-d7ee-4c58c2bbf6e6"
      },
      "execution_count": null,
      "outputs": [
        {
          "output_type": "execute_result",
          "data": {
            "text/plain": [
              "dtype('float64')"
            ]
          },
          "metadata": {},
          "execution_count": 39
        }
      ]
    },
    {
      "cell_type": "code",
      "source": [
        "climate_data.dtype"
      ],
      "metadata": {
        "colab": {
          "base_uri": "https://localhost:8080/"
        },
        "id": "g-Yd2-m2xb-j",
        "outputId": "c4bf8226-27a9-4ce9-be18-94582ccc0a32"
      },
      "execution_count": null,
      "outputs": [
        {
          "output_type": "execute_result",
          "data": {
            "text/plain": [
              "dtype('int64')"
            ]
          },
          "metadata": {},
          "execution_count": 40
        }
      ]
    },
    {
      "cell_type": "code",
      "source": [
        "climate_data"
      ],
      "metadata": {
        "colab": {
          "base_uri": "https://localhost:8080/"
        },
        "id": "Li6cd2eHxkhK",
        "outputId": "fdcf19ed-c3d6-40b1-ec1d-65e2342c60f4"
      },
      "execution_count": null,
      "outputs": [
        {
          "output_type": "execute_result",
          "data": {
            "text/plain": [
              "array([[ 73,  67,  43],\n",
              "       [ 91,  88,  64],\n",
              "       [ 87, 134,  58],\n",
              "       [102,  43,  37],\n",
              "       [ 69,  96,  70]])"
            ]
          },
          "metadata": {},
          "execution_count": 41
        }
      ]
    },
    {
      "cell_type": "code",
      "source": [
        "weights"
      ],
      "metadata": {
        "colab": {
          "base_uri": "https://localhost:8080/"
        },
        "id": "tJq4SvkkyKOR",
        "outputId": "4a561681-b143-46c7-ef5c-3e997c0d828a"
      },
      "execution_count": null,
      "outputs": [
        {
          "output_type": "execute_result",
          "data": {
            "text/plain": [
              "array([0.3, 0.2, 0.5])"
            ]
          },
          "metadata": {},
          "execution_count": 42
        }
      ]
    },
    {
      "cell_type": "code",
      "source": [],
      "metadata": {
        "id": "z-tzPKuryLQM"
      },
      "execution_count": null,
      "outputs": []
    },
    {
      "cell_type": "markdown",
      "source": [
        "np.matmul function or the @ operator to perform the matrix multiplication."
      ],
      "metadata": {
        "id": "PcXf_A2vyM03"
      }
    },
    {
      "cell_type": "code",
      "source": [
        "np.matmul(climate_data, weights)"
      ],
      "metadata": {
        "colab": {
          "base_uri": "https://localhost:8080/"
        },
        "id": "Gzwgh3-vyaud",
        "outputId": "ee165734-4bb3-4c28-cc98-35d94dd97d05"
      },
      "execution_count": null,
      "outputs": [
        {
          "output_type": "execute_result",
          "data": {
            "text/plain": [
              "array([56.8, 76.9, 81.9, 57.7, 74.9])"
            ]
          },
          "metadata": {},
          "execution_count": 43
        }
      ]
    },
    {
      "cell_type": "code",
      "source": [
        "climate_data @ weights"
      ],
      "metadata": {
        "colab": {
          "base_uri": "https://localhost:8080/"
        },
        "id": "4EpA6eo2ydg5",
        "outputId": "e18f3da9-e7e5-4615-a79c-19ff1ead5197"
      },
      "execution_count": null,
      "outputs": [
        {
          "output_type": "execute_result",
          "data": {
            "text/plain": [
              "array([56.8, 76.9, 81.9, 57.7, 74.9])"
            ]
          },
          "metadata": {},
          "execution_count": 44
        }
      ]
    },
    {
      "cell_type": "code",
      "source": [],
      "metadata": {
        "id": "bPEC2cBJyi_D"
      },
      "execution_count": null,
      "outputs": []
    },
    {
      "cell_type": "markdown",
      "source": [
        "# Working with CSV data files\n",
        "\n",
        "Numpy also provides helper functions reading from & writing to files. Let's download a file climate.txt, which contains 10,000 climate measurements (temperature, rainfall & humidity) in the following format:\n",
        "\n",
        "\n",
        "CSVs: A comma-separated values (CSV) file is a delimited text file that uses a comma to separate values. Each line of the file is a data record. Each record consists of one or more fields, separated by commas."
      ],
      "metadata": {
        "id": "c03q53YVyuY1"
      }
    },
    {
      "cell_type": "code",
      "source": [
        "import urllib.request\n",
        "\n",
        "urllib.request.urlretrieve(\n",
        "    'https://gist.github.com/BirajCoder/a4ffcb76fd6fb221d76ac2ee2b8584e9/raw/4054f90adfd361b7aa4255e99c2e874664094cea/climate.csv',\n",
        "    'climate.txt')"
      ],
      "metadata": {
        "colab": {
          "base_uri": "https://localhost:8080/"
        },
        "id": "g5zD9PpEyvga",
        "outputId": "f5700a9a-3fbc-4161-b018-7a0e02b64d54"
      },
      "execution_count": null,
      "outputs": [
        {
          "output_type": "execute_result",
          "data": {
            "text/plain": [
              "('climate.txt', <http.client.HTTPMessage at 0x7f1f480bf760>)"
            ]
          },
          "metadata": {},
          "execution_count": 45
        }
      ]
    },
    {
      "cell_type": "code",
      "source": [
        "climate_data = np.genfromtxt('climate.txt', delimiter=',', skip_header=1)"
      ],
      "metadata": {
        "id": "sBBU_9yJzsZX"
      },
      "execution_count": null,
      "outputs": []
    },
    {
      "cell_type": "code",
      "source": [
        "climate_data"
      ],
      "metadata": {
        "colab": {
          "base_uri": "https://localhost:8080/"
        },
        "id": "C6y43BGxzxC9",
        "outputId": "d23e11b1-3e39-4aaf-fa42-211fcd3ecd61"
      },
      "execution_count": null,
      "outputs": [
        {
          "output_type": "execute_result",
          "data": {
            "text/plain": [
              "array([[25., 76., 99.],\n",
              "       [39., 65., 70.],\n",
              "       [59., 45., 77.],\n",
              "       ...,\n",
              "       [99., 62., 58.],\n",
              "       [70., 71., 91.],\n",
              "       [92., 39., 76.]])"
            ]
          },
          "metadata": {},
          "execution_count": 47
        }
      ]
    },
    {
      "cell_type": "code",
      "source": [
        "climate_data.shape\n"
      ],
      "metadata": {
        "colab": {
          "base_uri": "https://localhost:8080/"
        },
        "id": "HKYh5IR8zyjE",
        "outputId": "4a5e4a8c-4c64-486d-82f5-3fcd2062a4bd"
      },
      "execution_count": null,
      "outputs": [
        {
          "output_type": "execute_result",
          "data": {
            "text/plain": [
              "(10000, 3)"
            ]
          },
          "metadata": {},
          "execution_count": 48
        }
      ]
    },
    {
      "cell_type": "code",
      "source": [
        "weights"
      ],
      "metadata": {
        "colab": {
          "base_uri": "https://localhost:8080/"
        },
        "id": "VKZgs6TBz4ak",
        "outputId": "3c968370-318d-4839-d01e-5e5696d5f252"
      },
      "execution_count": null,
      "outputs": [
        {
          "output_type": "execute_result",
          "data": {
            "text/plain": [
              "array([0.3, 0.2, 0.5])"
            ]
          },
          "metadata": {},
          "execution_count": 49
        }
      ]
    },
    {
      "cell_type": "code",
      "source": [
        "yields = climate_data @ weights"
      ],
      "metadata": {
        "id": "uRybmOAF0wkb"
      },
      "execution_count": null,
      "outputs": []
    },
    {
      "cell_type": "code",
      "source": [
        "yields"
      ],
      "metadata": {
        "colab": {
          "base_uri": "https://localhost:8080/"
        },
        "id": "rFG5O9c905-p",
        "outputId": "4e87059c-39fe-480b-de61-b97fdbda4164"
      },
      "execution_count": null,
      "outputs": [
        {
          "output_type": "execute_result",
          "data": {
            "text/plain": [
              "array([72.2, 59.7, 65.2, ..., 71.1, 80.7, 73.4])"
            ]
          },
          "metadata": {},
          "execution_count": 51
        }
      ]
    },
    {
      "cell_type": "code",
      "source": [
        "yields.shape"
      ],
      "metadata": {
        "colab": {
          "base_uri": "https://localhost:8080/"
        },
        "id": "lRCOd2zL08ZS",
        "outputId": "3b1a462a-53a2-48ae-9998-497bb3392e7f"
      },
      "execution_count": null,
      "outputs": [
        {
          "output_type": "execute_result",
          "data": {
            "text/plain": [
              "(10000,)"
            ]
          },
          "metadata": {},
          "execution_count": 52
        }
      ]
    },
    {
      "cell_type": "markdown",
      "source": [
        "Let's add the `yields` to `climate_data` as a fourth column using the [`np.concatenate`](https://numpy.org/doc/stable/reference/generated/numpy.concatenate.html) function."
      ],
      "metadata": {
        "id": "NjqQckRS1fyg"
      }
    },
    {
      "cell_type": "code",
      "source": [
        "climate_results = np.concatenate((climate_data, yields.reshape(10000,1)), axis = 1)"
      ],
      "metadata": {
        "id": "EQak1gwh1Aef"
      },
      "execution_count": null,
      "outputs": []
    },
    {
      "cell_type": "code",
      "source": [
        "climate_results"
      ],
      "metadata": {
        "colab": {
          "base_uri": "https://localhost:8080/"
        },
        "id": "SBc2npO710Nq",
        "outputId": "307726e8-72bc-4e17-d841-4810bd3d44ac"
      },
      "execution_count": null,
      "outputs": [
        {
          "output_type": "execute_result",
          "data": {
            "text/plain": [
              "array([[25. , 76. , 99. , 72.2],\n",
              "       [39. , 65. , 70. , 59.7],\n",
              "       [59. , 45. , 77. , 65.2],\n",
              "       ...,\n",
              "       [99. , 62. , 58. , 71.1],\n",
              "       [70. , 71. , 91. , 80.7],\n",
              "       [92. , 39. , 76. , 73.4]])"
            ]
          },
          "metadata": {},
          "execution_count": 54
        }
      ]
    },
    {
      "cell_type": "code",
      "source": [
        "np.savetxt('climate_results.txt',\n",
        "           climate_results,\n",
        "           fmt='%.2f',\n",
        "           delimiter=',',\n",
        "           header='temperature,rainfall,humidity,yeild_apples',\n",
        "           comments='')"
      ],
      "metadata": {
        "id": "3q5y4DdP12Pk"
      },
      "execution_count": null,
      "outputs": []
    },
    {
      "cell_type": "markdown",
      "source": [
        "\n",
        "\n",
        "*   Mathematics: np.sum, np.exp, np.round, arithemtic operators\n",
        "\n",
        "*   Array manipulation: np.reshape, np.stack, np.concatenate, np.split\n",
        "\n",
        "\n",
        "*   Linear Algebra: np.matmul, np.dot, np.transpose, np.eigvals\n",
        "\n",
        "*   Statistics: np.mean, np.median, np.std, np.max\n",
        "\n",
        "\n",
        "\n",
        "\n",
        "\n",
        "\n",
        "\n",
        "\n"
      ],
      "metadata": {
        "id": "Y1br3kvs2uRy"
      }
    },
    {
      "cell_type": "code",
      "source": [],
      "metadata": {
        "id": "2weGYgOk2gUN"
      },
      "execution_count": null,
      "outputs": []
    },
    {
      "cell_type": "markdown",
      "source": [
        "## Arithmetic operations, broadcasting and comparison\n",
        "\n",
        "Numpy arrays support arithmetic operators like `+`, `-`, `*`, etc. You can perform an arithmetic operation with a single number (also called scalar) or with another array of the same shape. Operators make it easy to write mathematical expressions with multi-dimensional arrays."
      ],
      "metadata": {
        "id": "R7E0M4Fn3f1J"
      }
    },
    {
      "cell_type": "code",
      "source": [
        "arr2 = np.array([[1, 2, 3, 4],\n",
        "                 [5, 6, 7, 8],\n",
        "                 [9, 1, 2, 3]])"
      ],
      "metadata": {
        "id": "p9wDA2eq3gpD"
      },
      "execution_count": null,
      "outputs": []
    },
    {
      "cell_type": "code",
      "source": [
        "arr3 = np.array([[11, 12, 13, 14],\n",
        "                 [15, 16, 17, 18],\n",
        "                 [19, 11, 12, 13]])"
      ],
      "metadata": {
        "id": "E160V_ii3ikt"
      },
      "execution_count": null,
      "outputs": []
    },
    {
      "cell_type": "code",
      "source": [
        "arr2 + arr3"
      ],
      "metadata": {
        "colab": {
          "base_uri": "https://localhost:8080/"
        },
        "id": "KquNIWjf3mXb",
        "outputId": "5110c346-e8f3-4ea7-f3a8-994d8b511586"
      },
      "execution_count": null,
      "outputs": [
        {
          "output_type": "execute_result",
          "data": {
            "text/plain": [
              "array([[12, 14, 16, 18],\n",
              "       [20, 22, 24, 26],\n",
              "       [28, 12, 14, 16]])"
            ]
          },
          "metadata": {},
          "execution_count": 58
        }
      ]
    },
    {
      "cell_type": "code",
      "source": [
        "#Adding scalar\n",
        "\n",
        "arr2 + 3"
      ],
      "metadata": {
        "colab": {
          "base_uri": "https://localhost:8080/"
        },
        "id": "lj1W_unC3oCG",
        "outputId": "a9a033fc-67fe-4416-8af1-895b8610598d"
      },
      "execution_count": null,
      "outputs": [
        {
          "output_type": "execute_result",
          "data": {
            "text/plain": [
              "array([[ 4,  5,  6,  7],\n",
              "       [ 8,  9, 10, 11],\n",
              "       [12,  4,  5,  6]])"
            ]
          },
          "metadata": {},
          "execution_count": 59
        }
      ]
    },
    {
      "cell_type": "code",
      "source": [
        "arr2 - arr3"
      ],
      "metadata": {
        "colab": {
          "base_uri": "https://localhost:8080/"
        },
        "id": "s6lpSCM83vbL",
        "outputId": "d63c90d7-2444-4412-a3ff-7eb83b65b4aa"
      },
      "execution_count": null,
      "outputs": [
        {
          "output_type": "execute_result",
          "data": {
            "text/plain": [
              "array([[-10, -10, -10, -10],\n",
              "       [-10, -10, -10, -10],\n",
              "       [-10, -10, -10, -10]])"
            ]
          },
          "metadata": {},
          "execution_count": 60
        }
      ]
    },
    {
      "cell_type": "code",
      "source": [
        "# Division by scalar\n",
        "arr2 / 2"
      ],
      "metadata": {
        "colab": {
          "base_uri": "https://localhost:8080/"
        },
        "id": "TKGRMmOI3yy3",
        "outputId": "bd6ca87a-a606-4643-9e7c-fa68305107fd"
      },
      "execution_count": null,
      "outputs": [
        {
          "output_type": "execute_result",
          "data": {
            "text/plain": [
              "array([[0.5, 1. , 1.5, 2. ],\n",
              "       [2.5, 3. , 3.5, 4. ],\n",
              "       [4.5, 0.5, 1. , 1.5]])"
            ]
          },
          "metadata": {},
          "execution_count": 61
        }
      ]
    },
    {
      "cell_type": "code",
      "source": [
        "# Element-wise multiplication\n",
        "arr2 * arr3"
      ],
      "metadata": {
        "colab": {
          "base_uri": "https://localhost:8080/"
        },
        "id": "prnGSO9A36GM",
        "outputId": "d44dc7a4-8d5d-47eb-d805-9f171abaf20d"
      },
      "execution_count": null,
      "outputs": [
        {
          "output_type": "execute_result",
          "data": {
            "text/plain": [
              "array([[ 11,  24,  39,  56],\n",
              "       [ 75,  96, 119, 144],\n",
              "       [171,  11,  24,  39]])"
            ]
          },
          "metadata": {},
          "execution_count": 62
        }
      ]
    },
    {
      "cell_type": "code",
      "source": [
        "# Modulus with scalar\n",
        "arr2 % 4"
      ],
      "metadata": {
        "colab": {
          "base_uri": "https://localhost:8080/"
        },
        "id": "NafQGR4o378U",
        "outputId": "a21b4134-3179-440c-ed57-66c7ea049870"
      },
      "execution_count": null,
      "outputs": [
        {
          "output_type": "execute_result",
          "data": {
            "text/plain": [
              "array([[1, 2, 3, 0],\n",
              "       [1, 2, 3, 0],\n",
              "       [1, 1, 2, 3]])"
            ]
          },
          "metadata": {},
          "execution_count": 63
        }
      ]
    },
    {
      "cell_type": "markdown",
      "source": [
        "### Array Broadcasting\n",
        "\n",
        "Numpy arrays also support *broadcasting*, allowing arithmetic operations between two arrays with different numbers of dimensions but compatible shapes. Let's look at an example to see how it works.\n"
      ],
      "metadata": {
        "id": "ALgFo-BY4I7Z"
      }
    },
    {
      "cell_type": "markdown",
      "source": [],
      "metadata": {
        "id": "zcE3v-L74ItV"
      }
    },
    {
      "cell_type": "code",
      "source": [
        "arr2 = np.array([[1, 2, 3, 4],\n",
        "                 [5, 6, 7, 8],\n",
        "                 [9, 1, 2, 3]])"
      ],
      "metadata": {
        "id": "bFXjiFv439pZ"
      },
      "execution_count": null,
      "outputs": []
    },
    {
      "cell_type": "code",
      "source": [
        "arr2.shape"
      ],
      "metadata": {
        "colab": {
          "base_uri": "https://localhost:8080/"
        },
        "id": "jCny3FCa4MOz",
        "outputId": "96b18735-25b3-4920-fb18-067658c76b18"
      },
      "execution_count": null,
      "outputs": [
        {
          "output_type": "execute_result",
          "data": {
            "text/plain": [
              "(3, 4)"
            ]
          },
          "metadata": {},
          "execution_count": 65
        }
      ]
    },
    {
      "cell_type": "code",
      "source": [
        "arr4 = np.array([4, 5, 6, 7])"
      ],
      "metadata": {
        "id": "Lv-QnXFb4O1g"
      },
      "execution_count": null,
      "outputs": []
    },
    {
      "cell_type": "code",
      "source": [
        "arr4.shape"
      ],
      "metadata": {
        "colab": {
          "base_uri": "https://localhost:8080/"
        },
        "id": "lOIYq6zQ4Ng1",
        "outputId": "042ec256-0687-4a87-e463-a8bee488c4dc"
      },
      "execution_count": null,
      "outputs": [
        {
          "output_type": "execute_result",
          "data": {
            "text/plain": [
              "(4,)"
            ]
          },
          "metadata": {},
          "execution_count": 67
        }
      ]
    },
    {
      "cell_type": "code",
      "source": [
        "arr2 + arr4"
      ],
      "metadata": {
        "colab": {
          "base_uri": "https://localhost:8080/"
        },
        "id": "8CSJgvJp4RPr",
        "outputId": "3b595592-9e40-45c0-ac44-c699eb0f54d3"
      },
      "execution_count": null,
      "outputs": [
        {
          "output_type": "execute_result",
          "data": {
            "text/plain": [
              "array([[ 5,  7,  9, 11],\n",
              "       [ 9, 11, 13, 15],\n",
              "       [13,  6,  8, 10]])"
            ]
          },
          "metadata": {},
          "execution_count": 68
        }
      ]
    },
    {
      "cell_type": "markdown",
      "source": [
        "When the expression `arr2 + arr4` is evaluated, `arr4` (which has the shape `(4,)`) is replicated three times to match the shape `(3, 4)` of `arr2`. Numpy performs the replication without actually creating three copies of the smaller dimension array, thus improving performance and using lower memory.\n",
        "\n",
        "<img src=\"https://jakevdp.github.io/PythonDataScienceHandbook/figures/02.05-broadcasting.png\" width=\"360\">\n",
        "\n",
        "Broadcasting only works if one of the arrays can be replicated to match the other array's shape."
      ],
      "metadata": {
        "id": "hEZPdfj54U60"
      }
    },
    {
      "cell_type": "code",
      "source": [
        "arr5 = np.array([7, 8])"
      ],
      "metadata": {
        "id": "CMVflGyT4SzI"
      },
      "execution_count": null,
      "outputs": []
    },
    {
      "cell_type": "code",
      "source": [
        "arr5.shape"
      ],
      "metadata": {
        "colab": {
          "base_uri": "https://localhost:8080/"
        },
        "id": "FT93OKCEF4cj",
        "outputId": "3cf1ecb1-0d2c-457f-c2d3-ade461f11a24"
      },
      "execution_count": null,
      "outputs": [
        {
          "output_type": "execute_result",
          "data": {
            "text/plain": [
              "(2,)"
            ]
          },
          "metadata": {},
          "execution_count": 70
        }
      ]
    },
    {
      "cell_type": "code",
      "source": [
        "arr2\n"
      ],
      "metadata": {
        "colab": {
          "base_uri": "https://localhost:8080/"
        },
        "id": "2aTSMWjVGK-l",
        "outputId": "cc703711-515f-4d53-afc8-2db2683785de"
      },
      "execution_count": null,
      "outputs": [
        {
          "output_type": "execute_result",
          "data": {
            "text/plain": [
              "array([[1, 2, 3, 4],\n",
              "       [5, 6, 7, 8],\n",
              "       [9, 1, 2, 3]])"
            ]
          },
          "metadata": {},
          "execution_count": 71
        }
      ]
    },
    {
      "cell_type": "code",
      "source": [
        "arr5"
      ],
      "metadata": {
        "colab": {
          "base_uri": "https://localhost:8080/"
        },
        "id": "fQjVmaBzGL79",
        "outputId": "2ae57ecc-04a8-4072-9185-6a9506d93744"
      },
      "execution_count": null,
      "outputs": [
        {
          "output_type": "execute_result",
          "data": {
            "text/plain": [
              "array([7, 8])"
            ]
          },
          "metadata": {},
          "execution_count": 72
        }
      ]
    },
    {
      "cell_type": "code",
      "source": [
        "arr2 + arr5"
      ],
      "metadata": {
        "colab": {
          "base_uri": "https://localhost:8080/",
          "height": 141
        },
        "id": "w7EsRfG4GNkL",
        "outputId": "48d4af3c-bc6f-4651-8f76-a62848fbeef9"
      },
      "execution_count": null,
      "outputs": [
        {
          "output_type": "error",
          "ename": "ValueError",
          "evalue": "operands could not be broadcast together with shapes (3,4) (2,) ",
          "traceback": [
            "\u001b[0;31m---------------------------------------------------------------------------\u001b[0m",
            "\u001b[0;31mValueError\u001b[0m                                Traceback (most recent call last)",
            "\u001b[0;32m<ipython-input-73-c22e92053c39>\u001b[0m in \u001b[0;36m<cell line: 1>\u001b[0;34m()\u001b[0m\n\u001b[0;32m----> 1\u001b[0;31m \u001b[0marr2\u001b[0m \u001b[0;34m+\u001b[0m \u001b[0marr5\u001b[0m\u001b[0;34m\u001b[0m\u001b[0;34m\u001b[0m\u001b[0m\n\u001b[0m",
            "\u001b[0;31mValueError\u001b[0m: operands could not be broadcast together with shapes (3,4) (2,) "
          ]
        }
      ]
    },
    {
      "cell_type": "code",
      "source": [
        "arr1 = np.array([[1,2,3], [3,4,5]])\n",
        "arr2 = np.array([[1,2,3], [1,2,5]])"
      ],
      "metadata": {
        "id": "4rPssJeXGP3l"
      },
      "execution_count": null,
      "outputs": []
    },
    {
      "cell_type": "code",
      "source": [
        "arr1 == arr2"
      ],
      "metadata": {
        "id": "yhmv2szuGU2o"
      },
      "execution_count": null,
      "outputs": []
    },
    {
      "cell_type": "code",
      "source": [
        "arr2 != arr1"
      ],
      "metadata": {
        "id": "IpiYGxBBGown"
      },
      "execution_count": null,
      "outputs": []
    },
    {
      "cell_type": "code",
      "source": [
        "arr1 >= arr2"
      ],
      "metadata": {
        "id": "GELyoauhG3xl"
      },
      "execution_count": null,
      "outputs": []
    },
    {
      "cell_type": "code",
      "source": [
        "arr2 < arr1"
      ],
      "metadata": {
        "id": "ZpKqo7m5G7R_"
      },
      "execution_count": null,
      "outputs": []
    },
    {
      "cell_type": "code",
      "source": [
        "(arr1 == arr2).sum()"
      ],
      "metadata": {
        "id": "wgLn9wFBHB6K"
      },
      "execution_count": null,
      "outputs": []
    },
    {
      "cell_type": "markdown",
      "source": [
        "## Array indexing and slicing\n",
        "\n",
        "Numpy extends Python's list indexing notation using [ ] to multiple dimensions in an intuitive fashion. You can provide a comma-separated list of indices or ranges to select a specific element or a subarray (also called a slice) from a Numpy array."
      ],
      "metadata": {
        "id": "5OPGUq7WHTWQ"
      }
    },
    {
      "cell_type": "code",
      "source": [],
      "metadata": {
        "id": "cPQNk4isIA6I"
      },
      "execution_count": null,
      "outputs": []
    },
    {
      "cell_type": "code",
      "source": [
        "\n",
        "arr3 = np.array([\n",
        "    [[11,12,13,14],\n",
        "     [13,14,15,19]],\n",
        "\n",
        "    [[15,16,17,21],\n",
        "     [63,92,36,18]],\n",
        "\n",
        "    [[98,32,81,23],\n",
        "     [17,18,19.5,43]]])"
      ],
      "metadata": {
        "id": "17CTJC8XHM-N"
      },
      "execution_count": null,
      "outputs": []
    },
    {
      "cell_type": "code",
      "source": [
        "arr3.shape"
      ],
      "metadata": {
        "id": "lXWpbu-_IBfb"
      },
      "execution_count": null,
      "outputs": []
    },
    {
      "cell_type": "code",
      "source": [
        "#Single element\n",
        "arr3[1,1,2]"
      ],
      "metadata": {
        "id": "EJ-D14A2IEya"
      },
      "execution_count": null,
      "outputs": []
    },
    {
      "cell_type": "code",
      "source": [
        "#Subarray using ranges\n",
        "arr3[1:,0:1,:2]"
      ],
      "metadata": {
        "id": "OXwdS5OxILt3"
      },
      "execution_count": null,
      "outputs": []
    },
    {
      "cell_type": "code",
      "source": [
        "arr3[1]"
      ],
      "metadata": {
        "id": "buz6EpNsIsgE"
      },
      "execution_count": null,
      "outputs": []
    },
    {
      "cell_type": "code",
      "source": [
        "arr3[1:]"
      ],
      "metadata": {
        "id": "is2NoES2J2hh"
      },
      "execution_count": null,
      "outputs": []
    },
    {
      "cell_type": "code",
      "source": [
        "arr3[1:, 0:1]"
      ],
      "metadata": {
        "id": "Ota_svpgJ5Ye"
      },
      "execution_count": null,
      "outputs": []
    },
    {
      "cell_type": "code",
      "source": [
        "arr3[1:, 0:1, 0:2]"
      ],
      "metadata": {
        "id": "f3Pk_0AFJ8iN"
      },
      "execution_count": null,
      "outputs": []
    },
    {
      "cell_type": "code",
      "source": [
        "arr3[2:, 1, 1]"
      ],
      "metadata": {
        "id": "B1Is_PTSKFHn"
      },
      "execution_count": null,
      "outputs": []
    },
    {
      "cell_type": "markdown",
      "source": [
        "## Other ways of creating Numpy arrays\n",
        "\n",
        "Numpy also provides some handy functions to create arrays of desired shapes with fixed or random values. Check out the [official documentation](https://numpy.org/doc/stable/reference/routines.array-creation.html) or use the `help` function to learn more."
      ],
      "metadata": {
        "id": "d4Y2R0WxLPb_"
      }
    },
    {
      "cell_type": "code",
      "source": [
        "#All zeros\n",
        "np.zeros((3,2))"
      ],
      "metadata": {
        "id": "7ElgnCvFKO2p"
      },
      "execution_count": null,
      "outputs": []
    },
    {
      "cell_type": "code",
      "source": [
        "#All ones\n",
        "np.ones([2,2 ,2])"
      ],
      "metadata": {
        "id": "XEc2IcsrLWTE"
      },
      "execution_count": null,
      "outputs": []
    },
    {
      "cell_type": "code",
      "source": [
        "#Identity matrix\n",
        "np.eye(3)"
      ],
      "metadata": {
        "id": "aggkUHGeLbUa"
      },
      "execution_count": null,
      "outputs": []
    },
    {
      "cell_type": "code",
      "source": [
        "#Random vecotor\n",
        "np.random.rand(5)"
      ],
      "metadata": {
        "id": "VyT6cKqMLkk3"
      },
      "execution_count": null,
      "outputs": []
    },
    {
      "cell_type": "code",
      "source": [
        "np.random.randn(2,3)"
      ],
      "metadata": {
        "id": "gwctk19mLqly"
      },
      "execution_count": null,
      "outputs": []
    },
    {
      "cell_type": "code",
      "source": [
        "#fixed value\n",
        "arr_full = np.full([2,3],42)\n",
        "arr_full"
      ],
      "metadata": {
        "id": "x2jJ7XeqLuOe"
      },
      "execution_count": null,
      "outputs": []
    },
    {
      "cell_type": "code",
      "source": [
        "# Range with start, end and step\n",
        "np.arange(10, 90, 3)\n"
      ],
      "metadata": {
        "id": "kqqm-mR2L7CF"
      },
      "execution_count": null,
      "outputs": []
    },
    {
      "cell_type": "code",
      "source": [
        "# Equally spaced numbers in a range\n",
        "np.linspace(3, 27, 9)"
      ],
      "metadata": {
        "id": "7OOTwgxZMDgV"
      },
      "execution_count": null,
      "outputs": []
    },
    {
      "cell_type": "markdown",
      "source": [
        "# 100 numpy exercises!!"
      ],
      "metadata": {
        "id": "oUhQmwd8TKCx"
      }
    },
    {
      "cell_type": "code",
      "source": [
        "import numpy as np"
      ],
      "metadata": {
        "id": "j5QjWaLiMIus"
      },
      "execution_count": null,
      "outputs": []
    },
    {
      "cell_type": "code",
      "source": [
        "np.zeros(10)"
      ],
      "metadata": {
        "id": "-HigWC9lTVTX"
      },
      "execution_count": null,
      "outputs": []
    },
    {
      "cell_type": "code",
      "source": [
        "arr1 = np.array([[[1,2,3],\n",
        "                 [3,4,5]],\n",
        "                 [[4,5,6],\n",
        "                  [5,6,7]]])"
      ],
      "metadata": {
        "id": "3SXNlct1TpP8"
      },
      "execution_count": null,
      "outputs": []
    },
    {
      "cell_type": "code",
      "source": [
        "arr1"
      ],
      "metadata": {
        "id": "iTwbwGG4UKpC"
      },
      "execution_count": null,
      "outputs": []
    },
    {
      "cell_type": "code",
      "source": [
        "arr1.shape"
      ],
      "metadata": {
        "id": "cwbaYwUHUp1n"
      },
      "execution_count": null,
      "outputs": []
    },
    {
      "cell_type": "code",
      "source": [
        " x,y,z = arr1.shape"
      ],
      "metadata": {
        "id": "iYB-7vmjULe-"
      },
      "execution_count": null,
      "outputs": []
    },
    {
      "cell_type": "code",
      "source": [
        "x"
      ],
      "metadata": {
        "id": "5CG7bek5URLo"
      },
      "execution_count": null,
      "outputs": []
    },
    {
      "cell_type": "code",
      "source": [
        "y"
      ],
      "metadata": {
        "id": "geZaSxxhUdoO"
      },
      "execution_count": null,
      "outputs": []
    },
    {
      "cell_type": "code",
      "source": [
        "3"
      ],
      "metadata": {
        "id": "x3Dcijz9UsUT"
      },
      "execution_count": null,
      "outputs": []
    },
    {
      "cell_type": "code",
      "source": [
        "arr1.dtype"
      ],
      "metadata": {
        "id": "QeK3POO3U-qf"
      },
      "execution_count": null,
      "outputs": []
    }
  ]
}
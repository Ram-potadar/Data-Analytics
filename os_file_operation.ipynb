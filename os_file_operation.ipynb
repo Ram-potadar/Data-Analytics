{
  "nbformat": 4,
  "nbformat_minor": 0,
  "metadata": {
    "colab": {
      "provenance": []
    },
    "kernelspec": {
      "name": "python3",
      "display_name": "Python 3"
    },
    "language_info": {
      "name": "python"
    }
  },
  "cells": [
    {
      "cell_type": "markdown",
      "source": [
        "## Interacting with the OS and filesystem\n"
      ],
      "metadata": {
        "id": "J3DzGebzompm"
      }
    },
    {
      "cell_type": "code",
      "execution_count": null,
      "metadata": {
        "id": "Cnz3RNONlSak"
      },
      "outputs": [],
      "source": [
        "import os"
      ]
    },
    {
      "cell_type": "markdown",
      "source": [
        "We can check the present working directory using the `os.getcwd` function."
      ],
      "metadata": {
        "id": "S9hRiT_Yoxdt"
      }
    },
    {
      "cell_type": "code",
      "source": [
        "os.getcwd()"
      ],
      "metadata": {
        "colab": {
          "base_uri": "https://localhost:8080/",
          "height": 36
        },
        "id": "gUid8yxTm4OO",
        "outputId": "56dc55aa-8b4d-4431-b0e2-124baeec9273"
      },
      "execution_count": null,
      "outputs": [
        {
          "output_type": "execute_result",
          "data": {
            "text/plain": [
              "'/content'"
            ],
            "application/vnd.google.colaboratory.intrinsic+json": {
              "type": "string"
            }
          },
          "metadata": {},
          "execution_count": 2
        }
      ]
    },
    {
      "cell_type": "markdown",
      "source": [
        "To get files in the directory"
      ],
      "metadata": {
        "id": "7o8D5lkbpKN7"
      }
    },
    {
      "cell_type": "code",
      "source": [
        "os.listdir('.') #relative path"
      ],
      "metadata": {
        "colab": {
          "base_uri": "https://localhost:8080/"
        },
        "id": "f16Mq1jFo3vv",
        "outputId": "6a8e81ba-0155-4b7d-97b1-fb0b4bcb884b"
      },
      "execution_count": null,
      "outputs": [
        {
          "output_type": "execute_result",
          "data": {
            "text/plain": [
              "['.config', 'sample_data']"
            ]
          },
          "metadata": {},
          "execution_count": 3
        }
      ]
    },
    {
      "cell_type": "code",
      "source": [
        "os.listdir('/usr') #absoulte path"
      ],
      "metadata": {
        "colab": {
          "base_uri": "https://localhost:8080/"
        },
        "id": "6MQgMwbHpGDr",
        "outputId": "1ff05785-ed45-4caf-d240-64647ec967fe"
      },
      "execution_count": null,
      "outputs": [
        {
          "output_type": "execute_result",
          "data": {
            "text/plain": [
              "['share',\n",
              " 'local',\n",
              " 'libx32',\n",
              " 'lib',\n",
              " 'bin',\n",
              " 'games',\n",
              " 'src',\n",
              " 'libexec',\n",
              " 'lib64',\n",
              " 'lib32',\n",
              " 'include',\n",
              " 'sbin',\n",
              " 'colab',\n",
              " 'grte']"
            ]
          },
          "metadata": {},
          "execution_count": 4
        }
      ]
    },
    {
      "cell_type": "markdown",
      "source": [
        "You can create a new directory using `os.makedirs`. Let's create a new directory called `data`, where we'll later download some files.\n"
      ],
      "metadata": {
        "id": "zT_lEsHepkTy"
      }
    },
    {
      "cell_type": "code",
      "source": [
        "os.makedirs('./data', exist_ok = True)"
      ],
      "metadata": {
        "id": "fE25XbynpTCe"
      },
      "execution_count": null,
      "outputs": []
    },
    {
      "cell_type": "markdown",
      "source": [
        "Verify whether `data` dictionary\n",
        " is present in the currenet directory\n"
      ],
      "metadata": {
        "id": "L6TMN7x2qSFq"
      }
    },
    {
      "cell_type": "code",
      "source": [
        "'data' in os.listdir('.')"
      ],
      "metadata": {
        "colab": {
          "base_uri": "https://localhost:8080/"
        },
        "id": "4tzV4NbLpu53",
        "outputId": "7f280ac8-05b8-4290-b9a0-2798107ffc08"
      },
      "execution_count": null,
      "outputs": [
        {
          "output_type": "execute_result",
          "data": {
            "text/plain": [
              "True"
            ]
          },
          "metadata": {},
          "execution_count": 6
        }
      ]
    },
    {
      "cell_type": "code",
      "execution_count": null,
      "metadata": {
        "colab": {
          "base_uri": "https://localhost:8080/"
        },
        "id": "7BJs9uRTFjzv",
        "outputId": "54de5f99-7b2b-4595-af7e-c9d4ba847e97"
      },
      "outputs": [
        {
          "output_type": "execute_result",
          "data": {
            "text/plain": [
              "[]"
            ]
          },
          "metadata": {},
          "execution_count": 7
        }
      ],
      "source": [
        "os.listdir('./data')"
      ]
    },
    {
      "cell_type": "code",
      "execution_count": null,
      "metadata": {
        "id": "iqSyzD1AFjzw"
      },
      "outputs": [],
      "source": [
        "url1 = 'https://gist.githubusercontent.com/aakashns/257f6e6c8719c17d0e498ea287d1a386/raw/7def9ef4234ddf0bc82f855ad67dac8b971852ef/loans1.txt'\n",
        "url2 = 'https://gist.githubusercontent.com/aakashns/257f6e6c8719c17d0e498ea287d1a386/raw/7def9ef4234ddf0bc82f855ad67dac8b971852ef/loans2.txt'\n",
        "url3 = 'https://gist.githubusercontent.com/aakashns/257f6e6c8719c17d0e498ea287d1a386/raw/7def9ef4234ddf0bc82f855ad67dac8b971852ef/loans3.txt'"
      ]
    },
    {
      "cell_type": "code",
      "source": [
        "from urllib.request import urlretrieve"
      ],
      "metadata": {
        "id": "uQtgV_soqmme"
      },
      "execution_count": null,
      "outputs": []
    },
    {
      "cell_type": "code",
      "source": [
        "urlretrieve(url1, './data/loans1.txt')"
      ],
      "metadata": {
        "colab": {
          "base_uri": "https://localhost:8080/"
        },
        "id": "VClEjMS9qrIf",
        "outputId": "b05ed133-a83e-47a2-f8f9-74019cedd543"
      },
      "execution_count": null,
      "outputs": [
        {
          "output_type": "execute_result",
          "data": {
            "text/plain": [
              "('./data/loans1.txt', <http.client.HTTPMessage at 0x7d0bcb9f60b0>)"
            ]
          },
          "metadata": {},
          "execution_count": 10
        }
      ]
    },
    {
      "cell_type": "code",
      "source": [
        "urlretrieve(url2, './data/loans2.txt')\n"
      ],
      "metadata": {
        "colab": {
          "base_uri": "https://localhost:8080/"
        },
        "id": "wu0nFg7aqsxE",
        "outputId": "1f828963-17b5-464d-b6f4-bcd2f5a71093"
      },
      "execution_count": null,
      "outputs": [
        {
          "output_type": "execute_result",
          "data": {
            "text/plain": [
              "('./data/loans2.txt', <http.client.HTTPMessage at 0x7d0bcb9f65c0>)"
            ]
          },
          "metadata": {},
          "execution_count": 11
        }
      ]
    },
    {
      "cell_type": "code",
      "source": [
        "urlretrieve(url3, './data/loans3.txt')"
      ],
      "metadata": {
        "colab": {
          "base_uri": "https://localhost:8080/"
        },
        "id": "_wzAwSmEqyrr",
        "outputId": "7dc5544f-47dc-490e-99bd-f7335eee4336"
      },
      "execution_count": null,
      "outputs": [
        {
          "output_type": "execute_result",
          "data": {
            "text/plain": [
              "('./data/loans3.txt', <http.client.HTTPMessage at 0x7d0bd8303f70>)"
            ]
          },
          "metadata": {},
          "execution_count": 12
        }
      ]
    },
    {
      "cell_type": "markdown",
      "source": [
        "## Reading from file"
      ],
      "metadata": {
        "id": "tB1hdLdkrEdn"
      }
    },
    {
      "cell_type": "markdown",
      "source": [
        "To read the file we forst need to open the file using built in `open` function.\n",
        "\n",
        "The `open` function rerurns a file objec and provides several mehtods for interacting with file's contents.   "
      ],
      "metadata": {
        "id": "Y_VNXW6-rM0J"
      }
    },
    {
      "cell_type": "code",
      "source": [
        "file1 = open('./data/loans1.txt', mode = 'r')"
      ],
      "metadata": {
        "id": "I6hIfh8Gq1Qe"
      },
      "execution_count": null,
      "outputs": []
    },
    {
      "cell_type": "markdown",
      "source": [
        "The open function also accepts a mode argumemt to specifies how we can interac with file.\n",
        "```\n",
        "charcter   meaning\n",
        "--------   ---------------------------\n",
        "'r'        open for reading (default)\n",
        "'w'        open for writing, truncating the file first\n",
        "'x'        creae new file and open it for writing\n",
        "'a'        open for writing, appending to the end of the file of its exists binary mode\n",
        "'b'        binary mdoe\n",
        "'t'        tex mode\n",
        "'+'        open a disk file for updating(reading and writing)\n",
        "'U'        universal newline mode\n",
        "\n",
        "```"
      ],
      "metadata": {
        "id": "LpmGI0CDsDak"
      }
    },
    {
      "cell_type": "code",
      "source": [
        "file1_contents = file1.read()"
      ],
      "metadata": {
        "id": "pX3JjkMKr2fW"
      },
      "execution_count": null,
      "outputs": []
    },
    {
      "cell_type": "code",
      "source": [
        "print(file1_contents)"
      ],
      "metadata": {
        "colab": {
          "base_uri": "https://localhost:8080/"
        },
        "id": "VOxjBUZjtoIx",
        "outputId": "eb98309e-0971-43e4-dcbe-b8d65967bfb4"
      },
      "execution_count": null,
      "outputs": [
        {
          "output_type": "stream",
          "name": "stdout",
          "text": [
            "amount,duration,rate,down_payment\n",
            "100000,36,0.08,20000\n",
            "200000,12,0.1,\n",
            "628400,120,0.12,100000\n",
            "4637400,240,0.06,\n",
            "42900,90,0.07,8900\n",
            "916000,16,0.13,\n",
            "45230,48,0.08,4300\n",
            "991360,99,0.08,\n",
            "423000,27,0.09,47200\n"
          ]
        }
      ]
    },
    {
      "cell_type": "code",
      "source": [
        "file1.close()"
      ],
      "metadata": {
        "id": "OkXLmvLYtrbU"
      },
      "execution_count": null,
      "outputs": []
    },
    {
      "cell_type": "markdown",
      "source": [
        "##Closing files automatically using `with`"
      ],
      "metadata": {
        "id": "A3KdvkT0uO7B"
      }
    },
    {
      "cell_type": "markdown",
      "source": [],
      "metadata": {
        "id": "I6Qm20dvufNH"
      }
    },
    {
      "cell_type": "code",
      "source": [
        "with open('./data/loans2.txt') as file2:\n",
        "  file2_contents = file2.read()\n",
        "  print(file2_contents)"
      ],
      "metadata": {
        "colab": {
          "base_uri": "https://localhost:8080/"
        },
        "id": "GntAPdr-uL-g",
        "outputId": "24848fd3-df08-49fb-b3c6-edea7ef2d1a5"
      },
      "execution_count": null,
      "outputs": [
        {
          "output_type": "stream",
          "name": "stdout",
          "text": [
            "amount,duration,rate,down_payment\n",
            "828400,120,0.11,100000\n",
            "4633400,240,0.06,\n",
            "42900,90,0.08,8900\n",
            "983000,16,0.14,\n",
            "15230,48,0.07,4300\n"
          ]
        }
      ]
    },
    {
      "cell_type": "markdown",
      "source": [
        "##Reading file line by line"
      ],
      "metadata": {
        "id": "PbSlqi6PvJpY"
      }
    },
    {
      "cell_type": "markdown",
      "source": [
        "File objects provide a `readlines` method to read a file line-by-line."
      ],
      "metadata": {
        "id": "FMNZmC2zvRQB"
      }
    },
    {
      "cell_type": "code",
      "source": [
        "with open('./data/loans3.txt', 'r') as file3:\n",
        "  file3_lines = file3.readlines()"
      ],
      "metadata": {
        "id": "jJx0jQsYuehU"
      },
      "execution_count": null,
      "outputs": []
    },
    {
      "cell_type": "code",
      "source": [
        "file3_lines"
      ],
      "metadata": {
        "colab": {
          "base_uri": "https://localhost:8080/"
        },
        "id": "xGg-StvSvdQO",
        "outputId": "4e63b945-f505-4eb5-b5fc-2ee280d70b52"
      },
      "execution_count": null,
      "outputs": [
        {
          "output_type": "execute_result",
          "data": {
            "text/plain": [
              "['amount,duration,rate,down_payment\\n',\n",
              " '45230,48,0.07,4300\\n',\n",
              " '883000,16,0.14,\\n',\n",
              " '100000,12,0.1,\\n',\n",
              " '728400,120,0.12,100000\\n',\n",
              " '3637400,240,0.06,\\n',\n",
              " '82900,90,0.07,8900\\n',\n",
              " '316000,16,0.13,\\n',\n",
              " '15230,48,0.08,4300\\n',\n",
              " '991360,99,0.08,\\n',\n",
              " '323000,27,0.09,4720010000,36,0.08,20000\\n',\n",
              " '528400,120,0.11,100000\\n',\n",
              " '8633400,240,0.06,\\n',\n",
              " '12900,90,0.08,8900']"
            ]
          },
          "metadata": {},
          "execution_count": 19
        }
      ]
    },
    {
      "cell_type": "markdown",
      "source": [
        "##Processing the data from the files\n",
        "\n",
        "\n",
        "*   Read the file line by line\n",
        "*   Parse the first line to get a list of the column names or headers\n",
        "*   Split each remaning lien and convert each value into float\n",
        "*   Create a dictionary for each loan using the header as keys\n",
        "*   Create a list of dictionaries to keep track of the loans\n",
        "\n",
        "\n"
      ],
      "metadata": {
        "id": "9L5N6OXPvkVn"
      }
    },
    {
      "cell_type": "code",
      "source": [
        "def parse_headers (header_line):\n",
        "   return header_line.strip().split(',')"
      ],
      "metadata": {
        "id": "QvJpBImQvhk9"
      },
      "execution_count": null,
      "outputs": []
    },
    {
      "cell_type": "code",
      "source": [
        "file3_lines[0]"
      ],
      "metadata": {
        "colab": {
          "base_uri": "https://localhost:8080/",
          "height": 36
        },
        "id": "OBq8aU2fwl4i",
        "outputId": "2211b654-42dd-4f7b-ad0f-8e0cc35bc0ed"
      },
      "execution_count": null,
      "outputs": [
        {
          "output_type": "execute_result",
          "data": {
            "text/plain": [
              "'amount,duration,rate,down_payment\\n'"
            ],
            "application/vnd.google.colaboratory.intrinsic+json": {
              "type": "string"
            }
          },
          "metadata": {},
          "execution_count": 21
        }
      ]
    },
    {
      "cell_type": "code",
      "source": [
        "headers = parse_headers(file3_lines[0])"
      ],
      "metadata": {
        "id": "Te67TAjywpxV"
      },
      "execution_count": null,
      "outputs": []
    },
    {
      "cell_type": "code",
      "source": [
        "headers\n"
      ],
      "metadata": {
        "colab": {
          "base_uri": "https://localhost:8080/"
        },
        "id": "L0jZWJkgwyM4",
        "outputId": "79156227-4304-44e7-875e-2c4c2f214c80"
      },
      "execution_count": null,
      "outputs": [
        {
          "output_type": "execute_result",
          "data": {
            "text/plain": [
              "['amount', 'duration', 'rate', 'down_payment']"
            ]
          },
          "metadata": {},
          "execution_count": 23
        }
      ]
    },
    {
      "cell_type": "markdown",
      "source": [
        "Now, let's create the `parse_value` funtion that takes the line contaning some daa and returns a list of floating numsbers."
      ],
      "metadata": {
        "id": "dsTSVh2mw3U1"
      }
    },
    {
      "cell_type": "code",
      "source": [
        "def parse_values(data_line):\n",
        "  values = []\n",
        "  for i in data_line.strip().split(','):\n",
        "    values.append(float(i))\n",
        "  return values\n"
      ],
      "metadata": {
        "id": "FV8XfF4Fwz6-"
      },
      "execution_count": null,
      "outputs": []
    },
    {
      "cell_type": "code",
      "source": [
        "file3_lines[1]"
      ],
      "metadata": {
        "colab": {
          "base_uri": "https://localhost:8080/",
          "height": 36
        },
        "id": "QuRgGjt1z1Op",
        "outputId": "d9f8b7b3-5bd4-4bdf-c8d9-805cfa3db77f"
      },
      "execution_count": null,
      "outputs": [
        {
          "output_type": "execute_result",
          "data": {
            "text/plain": [
              "'45230,48,0.07,4300\\n'"
            ],
            "application/vnd.google.colaboratory.intrinsic+json": {
              "type": "string"
            }
          },
          "metadata": {},
          "execution_count": 25
        }
      ]
    },
    {
      "cell_type": "code",
      "source": [],
      "metadata": {
        "id": "iu5u2-viRb0O"
      },
      "execution_count": null,
      "outputs": []
    },
    {
      "cell_type": "code",
      "source": [
        "parse_values(file3_lines[1])"
      ],
      "metadata": {
        "colab": {
          "base_uri": "https://localhost:8080/"
        },
        "id": "oEzfl7HUz6ao",
        "outputId": "cb37c637-7c8b-43ca-a63c-5cf01ac89cb4"
      },
      "execution_count": null,
      "outputs": [
        {
          "output_type": "execute_result",
          "data": {
            "text/plain": [
              "[45230.0, 48.0, 0.07, 4300.0]"
            ]
          },
          "metadata": {},
          "execution_count": 26
        }
      ]
    },
    {
      "cell_type": "code",
      "source": [
        "file3_lines[2]"
      ],
      "metadata": {
        "colab": {
          "base_uri": "https://localhost:8080/",
          "height": 36
        },
        "id": "o-Nj68JIz-wO",
        "outputId": "7f1db46b-f69b-4b7e-f6cb-db3535a65b17"
      },
      "execution_count": null,
      "outputs": [
        {
          "output_type": "execute_result",
          "data": {
            "text/plain": [
              "'883000,16,0.14,\\n'"
            ],
            "application/vnd.google.colaboratory.intrinsic+json": {
              "type": "string"
            }
          },
          "metadata": {},
          "execution_count": 27
        }
      ]
    },
    {
      "cell_type": "code",
      "source": [
        "parse_values(file3_lines[2])\n"
      ],
      "metadata": {
        "colab": {
          "base_uri": "https://localhost:8080/",
          "height": 245
        },
        "id": "XFNDlfp40LyC",
        "outputId": "149dac8d-ddd1-446b-eb50-be993ac2d01e"
      },
      "execution_count": null,
      "outputs": [
        {
          "output_type": "error",
          "ename": "ValueError",
          "evalue": "could not convert string to float: ''",
          "traceback": [
            "\u001b[0;31m---------------------------------------------------------------------------\u001b[0m",
            "\u001b[0;31mValueError\u001b[0m                                Traceback (most recent call last)",
            "\u001b[0;32m<ipython-input-29-b170e8564609>\u001b[0m in \u001b[0;36m<cell line: 1>\u001b[0;34m()\u001b[0m\n\u001b[0;32m----> 1\u001b[0;31m \u001b[0mparse_values\u001b[0m\u001b[0;34m(\u001b[0m\u001b[0mfile3_lines\u001b[0m\u001b[0;34m[\u001b[0m\u001b[0;36m2\u001b[0m\u001b[0;34m]\u001b[0m\u001b[0;34m)\u001b[0m\u001b[0;34m\u001b[0m\u001b[0;34m\u001b[0m\u001b[0m\n\u001b[0m",
            "\u001b[0;32m<ipython-input-24-6fe25eef923d>\u001b[0m in \u001b[0;36mparse_values\u001b[0;34m(data_line)\u001b[0m\n\u001b[1;32m      2\u001b[0m   \u001b[0mvalues\u001b[0m \u001b[0;34m=\u001b[0m \u001b[0;34m[\u001b[0m\u001b[0;34m]\u001b[0m\u001b[0;34m\u001b[0m\u001b[0;34m\u001b[0m\u001b[0m\n\u001b[1;32m      3\u001b[0m   \u001b[0;32mfor\u001b[0m \u001b[0mi\u001b[0m \u001b[0;32min\u001b[0m \u001b[0mdata_line\u001b[0m\u001b[0;34m.\u001b[0m\u001b[0mstrip\u001b[0m\u001b[0;34m(\u001b[0m\u001b[0;34m)\u001b[0m\u001b[0;34m.\u001b[0m\u001b[0msplit\u001b[0m\u001b[0;34m(\u001b[0m\u001b[0;34m','\u001b[0m\u001b[0;34m)\u001b[0m\u001b[0;34m:\u001b[0m\u001b[0;34m\u001b[0m\u001b[0;34m\u001b[0m\u001b[0m\n\u001b[0;32m----> 4\u001b[0;31m     \u001b[0mvalues\u001b[0m\u001b[0;34m.\u001b[0m\u001b[0mappend\u001b[0m\u001b[0;34m(\u001b[0m\u001b[0mfloat\u001b[0m\u001b[0;34m(\u001b[0m\u001b[0mi\u001b[0m\u001b[0;34m)\u001b[0m\u001b[0;34m)\u001b[0m\u001b[0;34m\u001b[0m\u001b[0;34m\u001b[0m\u001b[0m\n\u001b[0m\u001b[1;32m      5\u001b[0m   \u001b[0;32mreturn\u001b[0m \u001b[0mvalues\u001b[0m\u001b[0;34m\u001b[0m\u001b[0;34m\u001b[0m\u001b[0m\n",
            "\u001b[0;31mValueError\u001b[0m: could not convert string to float: ''"
          ]
        }
      ]
    },
    {
      "cell_type": "markdown",
      "source": [
        "The code above leades to the `value error ` as empty strings are cannot be converted into the float.\n",
        "\n",
        "We can enhance the `parse_value` by hamdling this edge case and we also handel the case where value is not a float.\n"
      ],
      "metadata": {
        "id": "AdMq4B0m0VSN"
      }
    },
    {
      "cell_type": "code",
      "source": [
        "def parse_values(data_line):\n",
        "  values = []\n",
        "  for i in data_line.strip().split(','):\n",
        "    if i == '':\n",
        "      values.append(float(0))\n",
        "    else:\n",
        "      try:\n",
        "        values.append(float(i))\n",
        "      except ValueError:\n",
        "        values.append(i)\n",
        "\n",
        "  return values\n",
        "\n"
      ],
      "metadata": {
        "id": "ngryMJMM0Q-p"
      },
      "execution_count": null,
      "outputs": []
    },
    {
      "cell_type": "code",
      "source": [
        "file3_lines[2]"
      ],
      "metadata": {
        "id": "KfBNERLg1WjJ",
        "colab": {
          "base_uri": "https://localhost:8080/",
          "height": 36
        },
        "outputId": "cf9adc75-103c-4c9f-92c4-a54287d1fdcc"
      },
      "execution_count": null,
      "outputs": [
        {
          "output_type": "execute_result",
          "data": {
            "text/plain": [
              "'883000,16,0.14,\\n'"
            ],
            "application/vnd.google.colaboratory.intrinsic+json": {
              "type": "string"
            }
          },
          "metadata": {},
          "execution_count": 31
        }
      ]
    },
    {
      "cell_type": "code",
      "source": [
        "parse_values(file3_lines[2])"
      ],
      "metadata": {
        "id": "une1yXmM1i9D",
        "colab": {
          "base_uri": "https://localhost:8080/"
        },
        "outputId": "681322e1-1f66-4b0e-e628-cad149f5c374"
      },
      "execution_count": null,
      "outputs": [
        {
          "output_type": "execute_result",
          "data": {
            "text/plain": [
              "[883000.0, 16.0, 0.14, 0.0]"
            ]
          },
          "metadata": {},
          "execution_count": 32
        }
      ]
    },
    {
      "cell_type": "markdown",
      "source": [
        "Now let''s define the function `creat_item_dict` that takes a list of values and a lsit of headers as inputs and returns a dictionary with the values associated with their respective headers as keys."
      ],
      "metadata": {
        "id": "UBXgv8MC1sRy"
      }
    },
    {
      "cell_type": "code",
      "source": [
        "def create_item_dict(values, headers):\n",
        "  result = {}\n",
        "  for value, header in zip(values, headers):\n",
        "    result[header] = value\n",
        "  return result"
      ],
      "metadata": {
        "id": "-UJI3o2Y2foI"
      },
      "execution_count": null,
      "outputs": []
    },
    {
      "cell_type": "code",
      "source": [
        "for item in zip(['1','2','3'], ['q', 'w', 'e']):\n",
        "  print(item)"
      ],
      "metadata": {
        "id": "zaF61HMa1nyI",
        "colab": {
          "base_uri": "https://localhost:8080/"
        },
        "outputId": "06504a6e-b518-49e1-aad9-bb37fb1f8684"
      },
      "execution_count": null,
      "outputs": [
        {
          "output_type": "stream",
          "name": "stdout",
          "text": [
            "('1', 'q')\n",
            "('2', 'w')\n",
            "('3', 'e')\n"
          ]
        }
      ]
    },
    {
      "cell_type": "code",
      "source": [
        "file3_lines[2]"
      ],
      "metadata": {
        "id": "GVaZrjHb2aL2",
        "colab": {
          "base_uri": "https://localhost:8080/",
          "height": 36
        },
        "outputId": "7b99a985-b648-42d3-cf21-8ceb8bd5fbbe"
      },
      "execution_count": null,
      "outputs": [
        {
          "output_type": "execute_result",
          "data": {
            "text/plain": [
              "'883000,16,0.14,\\n'"
            ],
            "application/vnd.google.colaboratory.intrinsic+json": {
              "type": "string"
            }
          },
          "metadata": {},
          "execution_count": 35
        }
      ]
    },
    {
      "cell_type": "code",
      "source": [
        "headers"
      ],
      "metadata": {
        "id": "fJCWMJ4A21VG",
        "colab": {
          "base_uri": "https://localhost:8080/"
        },
        "outputId": "2fc7e391-1048-4bb9-8af1-9090741817af"
      },
      "execution_count": null,
      "outputs": [
        {
          "output_type": "execute_result",
          "data": {
            "text/plain": [
              "['amount', 'duration', 'rate', 'down_payment']"
            ]
          },
          "metadata": {},
          "execution_count": 36
        }
      ]
    },
    {
      "cell_type": "code",
      "source": [
        "create_item_dict(parse_values(file3_lines[2]), headers)"
      ],
      "metadata": {
        "id": "UisPa3Xf23Us",
        "colab": {
          "base_uri": "https://localhost:8080/"
        },
        "outputId": "7a561084-d424-44e8-eb29-14e460ccc8d7"
      },
      "execution_count": null,
      "outputs": [
        {
          "output_type": "execute_result",
          "data": {
            "text/plain": [
              "{'amount': 883000.0, 'duration': 16.0, 'rate': 0.14, 'down_payment': 0.0}"
            ]
          },
          "metadata": {},
          "execution_count": 37
        }
      ]
    },
    {
      "cell_type": "markdown",
      "source": [
        " Now we are ready to the combine all together and `read_csv` file and convert it from CSV file to list of dictionaries."
      ],
      "metadata": {
        "id": "rQZNIol63XIH"
      }
    },
    {
      "cell_type": "code",
      "source": [
        "def parse_headers(header_line):\n",
        "  return header_line.strip().split(',')\n",
        "\n",
        "def parse_values(data_line):\n",
        "  values = []\n",
        "  for i in data_line.strip().split(','):\n",
        "    if i == '':\n",
        "      values.append(float(0))\n",
        "\n",
        "    else:\n",
        "      try:\n",
        "        values.append(float(i))\n",
        "\n",
        "      except ValueError:\n",
        "        values.append(i)\n",
        "  return values\n",
        "\n",
        "def create_item_dict( headers, values):\n",
        "  result = {}\n",
        "  for key , value in zip (headers, values):\n",
        "    result[key] = value\n",
        "  return result\n",
        "\n",
        "\n",
        "def read_csv(path):\n",
        "  result = []\n",
        "  with open(path, 'r') as f:\n",
        "\n",
        "    lines = f.readlines()\n",
        "    headers = parse_headers(lines[0])\n",
        "    for data_line in lines[1:]:\n",
        "      values = parse_values(data_line)\n",
        "      item_dict = create_item_dict(headers, values)\n",
        "      result.append(item_dict)\n",
        "\n",
        "  return result\n"
      ],
      "metadata": {
        "id": "BXLTkmcB272C"
      },
      "execution_count": null,
      "outputs": []
    },
    {
      "cell_type": "markdown",
      "source": [],
      "metadata": {
        "id": "K78DYS-JPb9B"
      }
    },
    {
      "cell_type": "code",
      "source": [
        "read_csv('./data/loans1.txt')"
      ],
      "metadata": {
        "id": "nlLl-56B8g6o"
      },
      "execution_count": null,
      "outputs": []
    },
    {
      "cell_type": "markdown",
      "source": [
        "## Let's define the function to calculate the EMI of each loan  "
      ],
      "metadata": {
        "id": "_Dg_SgoePmPa"
      }
    },
    {
      "cell_type": "code",
      "source": [
        "import math\n",
        "\n",
        "def loan_emi(amount , duration , rate, down_payment = 0):\n",
        "  loan_amount = amount - down_payment\n",
        "\n",
        "  try:\n",
        "    emi = loan_amount * rate * ((1+rate)** duration) / (((1+rate)**duration) - 1)\n",
        "\n",
        "  except: ZeroDivisionError\n",
        "  emi = math.ceil(emi)\n",
        "\n",
        "  return emi\n"
      ],
      "metadata": {
        "id": "yNRgFFCo9O_c"
      },
      "execution_count": null,
      "outputs": []
    },
    {
      "cell_type": "code",
      "source": [
        "loans2 = read_csv('./data/loans2.txt')"
      ],
      "metadata": {
        "id": "nXhKnCyDQM4s"
      },
      "execution_count": null,
      "outputs": []
    },
    {
      "cell_type": "code",
      "source": [
        "loans2"
      ],
      "metadata": {
        "id": "JfhvxrWyRK_b"
      },
      "execution_count": null,
      "outputs": []
    },
    {
      "cell_type": "code",
      "source": [
        "for loan in loans2:\n",
        "  loan['emi'] = loan_emi(loan['amount'], loan['duration'], loan['rate']/12, loan['down_payment'])"
      ],
      "metadata": {
        "id": "HlZAwgE-Res_"
      },
      "execution_count": null,
      "outputs": []
    },
    {
      "cell_type": "code",
      "source": [
        "loans2"
      ],
      "metadata": {
        "id": "LEaSL-ASUmcw"
      },
      "execution_count": null,
      "outputs": []
    },
    {
      "cell_type": "code",
      "source": [
        "def compute_emi(loans):\n",
        "  for loan in loans:\n",
        "    loan['emi'] = loan_emi(loan['amount'], loan['duration'], loan['rate']/12, loan['down_payment'])"
      ],
      "metadata": {
        "id": "KMw5LFWSUtHa"
      },
      "execution_count": null,
      "outputs": []
    },
    {
      "cell_type": "markdown",
      "source": [
        "### Writing to files"
      ],
      "metadata": {
        "id": "mJb9ZPORU8on"
      }
    },
    {
      "cell_type": "code",
      "source": [
        "loans2 = read_csv('./data/loans2.txt')"
      ],
      "metadata": {
        "id": "UIl5Z6kcU6z0"
      },
      "execution_count": null,
      "outputs": []
    },
    {
      "cell_type": "code",
      "source": [
        "loans2"
      ],
      "metadata": {
        "id": "NFlSI2bHVLEP"
      },
      "execution_count": null,
      "outputs": []
    },
    {
      "cell_type": "code",
      "source": [
        "compute_emi(loans2)"
      ],
      "metadata": {
        "id": "bK0gQ9k0VL8k"
      },
      "execution_count": null,
      "outputs": []
    },
    {
      "cell_type": "code",
      "source": [
        "loans2"
      ],
      "metadata": {
        "id": "lqG_kYuVVQB5"
      },
      "execution_count": null,
      "outputs": []
    },
    {
      "cell_type": "code",
      "source": [
        "with open('./data/emis2.txt', 'w') as f :\n",
        "  for loan in loans2:\n",
        "    f.write('{},{},{},{},{}\\n'.format(\n",
        "        loan['amount'],\n",
        "        loan['duration'],\n",
        "        loan['rate'],\n",
        "        loan['down_payment'],\n",
        "        loan['emi']\n",
        "    ))"
      ],
      "metadata": {
        "id": "EJpgn60gVRsD"
      },
      "execution_count": null,
      "outputs": []
    },
    {
      "cell_type": "code",
      "source": [
        "with open('./data/emis2.txt', 'r') as f:\n",
        "  print(f.read())"
      ],
      "metadata": {
        "id": "U8j1c24PVoHc"
      },
      "execution_count": null,
      "outputs": []
    },
    {
      "cell_type": "markdown",
      "source": [
        "Let's define a generic function `write_csv` which takes a list of dictionaries and write it to a file in CSV formate. We will also include the column headrs in the file line"
      ],
      "metadata": {
        "id": "l2Rs-BrAE804"
      }
    },
    {
      "cell_type": "code",
      "source": [
        "def write_csv(items, path):\n",
        "  with open(path, 'w') as f:\n",
        "\n",
        "    if len(items) == 0:\n",
        "      return\n",
        "\n",
        "    headers = list(items[0].keys())\n",
        "    f.write(','.join(headers) + '\\n')\n",
        "\n",
        "    for item in items:\n",
        "      values = []\n",
        "      for header in headers:\n",
        "        values.append(str(item.get(header, \"\")))\n",
        "      f.write(','.join(values) + \"\\n\")"
      ],
      "metadata": {
        "id": "wSdIkv7PV2Wo"
      },
      "execution_count": null,
      "outputs": []
    },
    {
      "cell_type": "code",
      "source": [
        "loans3 = read_csv('./data/loans3.txt')"
      ],
      "metadata": {
        "id": "KzTpsSaAGRIL"
      },
      "execution_count": null,
      "outputs": []
    },
    {
      "cell_type": "code",
      "source": [
        "compute_emi(loans3)"
      ],
      "metadata": {
        "id": "spyPUKeZGYN-"
      },
      "execution_count": null,
      "outputs": []
    },
    {
      "cell_type": "code",
      "source": [
        "write_csv(loans3, './data/emis3.txt')"
      ],
      "metadata": {
        "id": "UINlxlX4HSsf"
      },
      "execution_count": null,
      "outputs": []
    },
    {
      "cell_type": "code",
      "source": [
        "with open('./data/emis3.txt', 'r') as f:\n",
        "  print(f.read())"
      ],
      "metadata": {
        "id": "h2gW53GaHEZA"
      },
      "execution_count": null,
      "outputs": []
    },
    {
      "cell_type": "code",
      "source": [
        "for i in range(1,4):\n",
        "  loans = read_csv('./data/loans{}.txt'. format(i))\n",
        "  compute_emi(loans)\n",
        "  write_csv(loans,'./data/emis{}.txt'.format(i))"
      ],
      "metadata": {
        "id": "gaSllYmCHOtE"
      },
      "execution_count": null,
      "outputs": []
    },
    {
      "cell_type": "code",
      "source": [
        "os.listdir('./data')"
      ],
      "metadata": {
        "id": "P-YB_8MbIWI6"
      },
      "execution_count": null,
      "outputs": []
    },
    {
      "cell_type": "code",
      "source": [],
      "metadata": {
        "id": "NbJZeGfEIbZd"
      },
      "execution_count": null,
      "outputs": []
    }
  ]
}